{
  "cells": [
    {
      "cell_type": "markdown",
      "metadata": {
        "id": "view-in-github",
        "colab_type": "text"
      },
      "source": [
        "<a href=\"https://colab.research.google.com/github/Vkoundinya/SudokuSolver/blob/main/opencvSudoku.ipynb\" target=\"_parent\"><img src=\"https://colab.research.google.com/assets/colab-badge.svg\" alt=\"Open In Colab\"/></a>"
      ]
    },
    {
      "cell_type": "code",
      "execution_count": 41,
      "metadata": {
        "id": "Ty2klshVnvq_"
      },
      "outputs": [],
      "source": [
        "import cv2\n",
        "import numpy as np\n",
        "import imutils\n",
        "from imutils.perspective import four_point_transform\n",
        "from skimage.segmentation import clear_border\n",
        "from keras.models import load_model\n",
        "from keras.preprocessing.image import img_to_array\n",
        "from sudoku import Sudoku"
      ]
    },
    {
      "cell_type": "markdown",
      "metadata": {
        "id": "jGpYsmpsH0EI"
      },
      "source": [
        "# New section"
      ]
    },
    {
      "cell_type": "code",
      "execution_count": 42,
      "metadata": {
        "id": "uWW1dfzRRTTg"
      },
      "outputs": [],
      "source": [
        "\n",
        "def solveSudoku(board):\n",
        "    solveGrid(0,0,board)\n",
        "    return board\n",
        "\n",
        "def solveGrid(row,col,board):\n",
        "    currentRow=row\n",
        "    currentCol=col\n",
        "    if currentCol==len(board[row]):\n",
        "        currentRow+=1\n",
        "        currentCol=0\n",
        "        if currentRow==len(board):\n",
        "            return True\n",
        "    if board[currentRow][currentCol]==0:\n",
        "        return tryFilling(currentRow,currentCol,board)\n",
        "    return solveGrid(currentRow,currentCol+1,board)\n",
        "\n",
        "def tryFilling(row,col,board):\n",
        "    for digit in range(1,10):\n",
        "        if validPosition(digit,row,col,board):\n",
        "            board[row][col]=digit\n",
        "            if solveGrid(row,col+1,board):\n",
        "                return True\n",
        "    board[row][col]=0\n",
        "    return False\n",
        "                         \n",
        "        \n",
        "def validPosition(value,row,col,board):\n",
        "    rowIsValid = value not in board[row]\n",
        "    colIsValid = value not in map(lambda r:r[col],board)\n",
        "    if not rowIsValid or not colIsValid:\n",
        "        return False\n",
        "    subRow=row//3\n",
        "    subCol=col//3\n",
        "    for rowIdx in range(3):\n",
        "        for colIdx in range(3):\n",
        "            rowToCheck=subRow*3+rowIdx\n",
        "            colToCheck=subCol*3+colIdx\n",
        "            valueExisting=board[rowToCheck][colToCheck]\n",
        "            if valueExisting==value:\n",
        "                return False\n",
        "    return True\n",
        "            \n"
      ]
    },
    {
      "cell_type": "code",
      "source": [
        "def find_board(puzzle):\n",
        "    gray_image = cv2.cvtColor(puzzle, cv2.COLOR_BGR2GRAY)\n",
        "\n",
        "    blurred_image = cv2.GaussianBlur(gray_image, (7, 7), 3)\n",
        "    blurred_image = cv2.adaptiveThreshold(blurred_image, 255, cv2.ADAPTIVE_THRESH_GAUSSIAN_C, cv2.THRESH_BINARY, 11, 2)\n",
        "\n",
        "    blurred_image = cv2.bitwise_not(blurred_image, blurred_image)\n",
        "    kernel = np.array([[0., 1., 0.], [1., 1., 1.], [0., 1., 0.]], np.uint8)\n",
        "    dialated_image = cv2.dilate(blurred_image, (13,13),8)\n",
        "\n",
        "    cnts = cv2.findContours(blurred_image, cv2.RETR_LIST,\n",
        "                            cv2.CHAIN_APPROX_NONE)\n",
        "    cnts = imutils.grab_contours(cnts)\n",
        "    cnts = sorted(cnts, key=cv2.contourArea, reverse=True)\n",
        "    puzzleCnt = None\n",
        "\n",
        "    for c in cnts:\n",
        "        peri = cv2.arcLength(c, True)\n",
        "        approx = cv2.approxPolyDP(c, 0.02 * peri, True)\n",
        "        if len(approx) == 4:\n",
        "            puzzleCnt = approx\n",
        "            break\n",
        "\n",
        "    if puzzleCnt is None:\n",
        "        raise Exception((\"Could not find Sudoku puzzle outline. \"\n",
        "                         \"Try debugging your thresholding and contour steps.\"))\n",
        "\n",
        "    puzzle1 = four_point_transform(puzzle, puzzleCnt.reshape(4, 2))\n",
        "    warped = four_point_transform(gray_image, puzzleCnt.reshape(4, 2))\n",
        "    return puzzle1, warped"
      ],
      "metadata": {
        "id": "wGnEipCruwHA"
      },
      "execution_count": 43,
      "outputs": []
    },
    {
      "cell_type": "markdown",
      "source": [
        "Code to Find the Digit if present from Each Cell"
      ],
      "metadata": {
        "id": "YYicK_cQLoSz"
      }
    },
    {
      "cell_type": "code",
      "source": [
        "def find_digit_in_cell(cell):\n",
        "    thresh = cv2.threshold(cell, 0, 255,\n",
        "                           cv2.THRESH_BINARY_INV | cv2.THRESH_OTSU)[1]\n",
        "    thresh = clear_border(thresh)\n",
        "    cnts = cv2.findContours(thresh.copy(), cv2.RETR_LIST,\n",
        "                            cv2.CHAIN_APPROX_NONE)\n",
        "    cnts = imutils.grab_contours(cnts)\n",
        "    if len(cnts) == 0:\n",
        "        return None\n",
        "        # otherwise, find the largest contour in the cell and create a\n",
        "        # mask for the contour\n",
        "    c = max(cnts, key=cv2.contourArea)\n",
        "    mask = np.zeros(thresh.shape, dtype=\"uint8\")\n",
        "    cv2.drawContours(mask, [c], -1, 255, -1)\n",
        "    (h, w) = thresh.shape\n",
        "    percentFilled = cv2.countNonZero(mask) / float(w * h)\n",
        "    # if less than 3% of the mask is filled then we are looking at\n",
        "    # noise and can safely ignore the contour\n",
        "    if percentFilled < 0.03:\n",
        "        return None\n",
        "    # apply the mask to the thresholded cell\n",
        "    digit = cv2.bitwise_and(thresh, thresh, mask=mask)\n",
        "    return digit"
      ],
      "metadata": {
        "id": "dSNDGgZyuwNM"
      },
      "execution_count": 44,
      "outputs": []
    },
    {
      "cell_type": "code",
      "execution_count": 16,
      "metadata": {
        "id": "BEP9LjVGRTgf"
      },
      "outputs": [],
      "source": [
        ""
      ]
    },
    {
      "cell_type": "code",
      "source": [
        "puzzle = cv2.imread('test_image.jpeg')\n",
        "puzzle = cv2.resize(puzzle, (1400, 800))\n",
        "\n",
        "puzzleBoard, warped = find_board(puzzle)\n",
        "\n",
        "#model=keras.models.load_model('digitPredict.h5')\n",
        "board = np.zeros((9, 9), dtype=\"int\")\n",
        "# a Sudoku puzzle is a 9x9 grid (81 individual cells), so we can\n",
        "# infer the location of each cell by dividing the warped image\n",
        "# into a 9x9 gridß\n",
        "stepX = warped.shape[1] // 9\n",
        "stepY = warped.shape[0] // 9\n",
        "# initialize a list to store the (x, y)-coordinates of each cell\n",
        "# location\n",
        "cellLocs = []\n",
        "\n",
        "for y in range(0, 9):\n",
        "    # initialize the current list of cell locations\n",
        "    row = []\n",
        "    for x in range(0, 9):\n",
        "        # compute the starting and ending (x, y)-coordinates of the\n",
        "        # current cell\n",
        "        startX = x * stepX\n",
        "        startY = y * stepY\n",
        "        endX = (x + 1) * stepX\n",
        "        endY = (y + 1) * stepY\n",
        "        # add the (x, y)-coordinates to our cell locations list\n",
        "        row.append((startX, startY, endX, endY))\n",
        "\n",
        "        cell = warped[startY:endY, startX:endX]\n",
        "        digit = find_digit_in_cell(cell)\n",
        "        # verify that the digit is not empty\n",
        "        if digit is not None:\n",
        "            roi = cv2.resize(digit, (28, 28))\n",
        "            roi = roi.astype(\"float\") / 255.0\n",
        "            roi = img_to_array(roi)\n",
        "            roi = np.expand_dims(roi, axis=0)\n",
        "            pred = model.predict(roi).argmax(axis=1)[0]\n",
        "            board[y, x] = pred\n",
        "        cellLocs.append(row)\n",
        "board =board.tolist()\n",
        "for row in board:\n",
        "  print(row)\n"
      ],
      "metadata": {
        "colab": {
          "base_uri": "https://localhost:8080/"
        },
        "id": "vMjnAltBvZg8",
        "outputId": "5581231a-d64b-4d34-90df-df50c85a433a"
      },
      "execution_count": 45,
      "outputs": [
        {
          "output_type": "stream",
          "name": "stdout",
          "text": [
            "[8, 0, 0, 0, 0, 0, 0, 0, 0]\n",
            "[0, 0, 3, 6, 0, 0, 0, 0, 0]\n",
            "[0, 7, 0, 0, 9, 0, 2, 0, 0]\n",
            "[0, 5, 0, 0, 0, 7, 0, 0, 0]\n",
            "[0, 0, 0, 0, 4, 5, 7, 0, 0]\n",
            "[0, 0, 0, 1, 0, 0, 0, 3, 0]\n",
            "[0, 0, 1, 0, 0, 0, 0, 6, 8]\n",
            "[0, 0, 8, 5, 0, 0, 0, 1, 0]\n",
            "[0, 9, 0, 0, 0, 0, 4, 0, 0]\n"
          ]
        }
      ]
    },
    {
      "cell_type": "code",
      "execution_count": 46,
      "metadata": {
        "id": "NtrKM3NBRTjW",
        "colab": {
          "base_uri": "https://localhost:8080/"
        },
        "outputId": "b1032c03-f496-44b4-975b-ae03f190e75a"
      },
      "outputs": [
        {
          "output_type": "stream",
          "name": "stdout",
          "text": [
            "\n",
            "---------------------------\n",
            "9x9 (3x3) SUDOKU PUZZLE\n",
            "Difficulty: SOLVED\n",
            "---------------------------\n",
            "+-------+-------+-------+\n",
            "| 8 1 2 | 7 5 3 | 6 4 9 |\n",
            "| 9 4 3 | 6 8 2 | 1 7 5 |\n",
            "| 6 7 5 | 4 9 1 | 2 8 3 |\n",
            "+-------+-------+-------+\n",
            "| 1 5 4 | 2 3 7 | 8 9 6 |\n",
            "| 3 6 9 | 8 4 5 | 7 2 1 |\n",
            "| 2 8 7 | 1 6 9 | 5 3 4 |\n",
            "+-------+-------+-------+\n",
            "| 5 2 1 | 9 7 4 | 3 6 8 |\n",
            "| 4 3 8 | 5 2 6 | 9 1 7 |\n",
            "| 7 9 6 | 3 1 8 | 4 5 2 |\n",
            "+-------+-------+-------+\n",
            "\n",
            "        \n"
          ]
        }
      ],
      "source": [
        "solutionBoard=solveSudoku(board)\n",
        "puzzle=Sudoku(3,3,board=solutionBoard)\n",
        "print(puzzle)\n"
      ]
    },
    {
      "cell_type": "code",
      "execution_count": null,
      "metadata": {
        "id": "67QLa1deRTth"
      },
      "outputs": [],
      "source": [
        ""
      ]
    }
  ],
  "metadata": {
    "colab": {
      "collapsed_sections": [],
      "name": "opencvSudoku.ipynb",
      "provenance": [],
      "authorship_tag": "ABX9TyMc/ewMaDnIEyy6xifFCaWY",
      "include_colab_link": true
    },
    "kernelspec": {
      "display_name": "Python 3",
      "name": "python3"
    },
    "language_info": {
      "name": "python"
    }
  },
  "nbformat": 4,
  "nbformat_minor": 0
}